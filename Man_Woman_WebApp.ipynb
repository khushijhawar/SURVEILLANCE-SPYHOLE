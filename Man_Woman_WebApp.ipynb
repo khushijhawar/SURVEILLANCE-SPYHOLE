{
  "nbformat": 4,
  "nbformat_minor": 0,
  "metadata": {
    "colab": {
      "name": "Man_Woman_WebApp.ipynb",
      "provenance": [],
      "collapsed_sections": [],
      "mount_file_id": "1U4A8ViUDxOJtTo4kOu1qdj-wiNmuENUQ",
      "authorship_tag": "ABX9TyMrykUQaOOto1LxaxH+xphi",
      "include_colab_link": true
    },
    "kernelspec": {
      "display_name": "Python 3",
      "name": "python3"
    },
    "language_info": {
      "name": "python"
    }
  },
  "cells": [
    {
      "cell_type": "markdown",
      "metadata": {
        "id": "view-in-github",
        "colab_type": "text"
      },
      "source": [
        "<a href=\"https://colab.research.google.com/github/khushijhawar/SURVEILLANCE-SPYHOLE/blob/main/Man_Woman_WebApp.ipynb\" target=\"_parent\"><img src=\"https://colab.research.google.com/assets/colab-badge.svg\" alt=\"Open In Colab\"/></a>"
      ]
    },
    {
      "cell_type": "code",
      "metadata": {
        "colab": {
          "base_uri": "https://localhost:8080/"
        },
        "id": "Mjk9hkJm_V-T",
        "outputId": "10cfef4f-d654-4477-8c47-2c1c15ba1fb9"
      },
      "source": [
        "from google.colab import drive\n",
        "drive.mount('/content/drive')"
      ],
      "execution_count": null,
      "outputs": [
        {
          "output_type": "stream",
          "name": "stdout",
          "text": [
            "Drive already mounted at /content/drive; to attempt to forcibly remount, call drive.mount(\"/content/drive\", force_remount=True).\n"
          ]
        }
      ]
    },
    {
      "cell_type": "code",
      "metadata": {
        "id": "KGxcW9N51BKT",
        "colab": {
          "base_uri": "https://localhost:8080/",
          "height": 35
        },
        "outputId": "d5dea161-b164-422a-bba0-b968c639e8ce"
      },
      "source": [
        "my_dir = \"/content/drive/My Drive/Geeksman_AISquad_Project1_KhushiJhawar/\"   #folder containing trained model\n",
        "\n",
        "import shutil\n",
        "shutil.copyfile(my_dir + \"export.pkl\" , \"export.pkl\")"
      ],
      "execution_count": null,
      "outputs": [
        {
          "output_type": "execute_result",
          "data": {
            "application/vnd.google.colaboratory.intrinsic+json": {
              "type": "string"
            },
            "text/plain": [
              "'export.pkl'"
            ]
          },
          "metadata": {},
          "execution_count": 2
        }
      ]
    },
    {
      "cell_type": "markdown",
      "metadata": {
        "id": "8SnrJwHmnnoI"
      },
      "source": [
        "## **Web Application**\n",
        "Creating a web app using Flask Web Application Framework\n",
        "\n",
        "Here, flask_ngrok is being used. The flask ngrok tool helps to make Flask apps running on localhost available over the internet."
      ]
    },
    {
      "cell_type": "code",
      "metadata": {
        "colab": {
          "base_uri": "https://localhost:8080/"
        },
        "id": "ocQd7fANnsUs",
        "outputId": "df6e909c-6d0c-4c0a-a680-3572d2543167"
      },
      "source": [
        "!pip install flask-ngrok\n",
        "%mkdir templates -p\n",
        "%mkdir uploads -p"
      ],
      "execution_count": null,
      "outputs": [
        {
          "output_type": "stream",
          "name": "stdout",
          "text": [
            "Collecting flask-ngrok\n",
            "  Downloading flask_ngrok-0.0.25-py3-none-any.whl (3.1 kB)\n",
            "Requirement already satisfied: Flask>=0.8 in /usr/local/lib/python3.7/dist-packages (from flask-ngrok) (1.1.4)\n",
            "Requirement already satisfied: requests in /usr/local/lib/python3.7/dist-packages (from flask-ngrok) (2.23.0)\n",
            "Requirement already satisfied: itsdangerous<2.0,>=0.24 in /usr/local/lib/python3.7/dist-packages (from Flask>=0.8->flask-ngrok) (1.1.0)\n",
            "Requirement already satisfied: click<8.0,>=5.1 in /usr/local/lib/python3.7/dist-packages (from Flask>=0.8->flask-ngrok) (7.1.2)\n",
            "Requirement already satisfied: Jinja2<3.0,>=2.10.1 in /usr/local/lib/python3.7/dist-packages (from Flask>=0.8->flask-ngrok) (2.11.3)\n",
            "Requirement already satisfied: Werkzeug<2.0,>=0.15 in /usr/local/lib/python3.7/dist-packages (from Flask>=0.8->flask-ngrok) (1.0.1)\n",
            "Requirement already satisfied: MarkupSafe>=0.23 in /usr/local/lib/python3.7/dist-packages (from Jinja2<3.0,>=2.10.1->Flask>=0.8->flask-ngrok) (2.0.1)\n",
            "Requirement already satisfied: certifi>=2017.4.17 in /usr/local/lib/python3.7/dist-packages (from requests->flask-ngrok) (2021.5.30)\n",
            "Requirement already satisfied: idna<3,>=2.5 in /usr/local/lib/python3.7/dist-packages (from requests->flask-ngrok) (2.10)\n",
            "Requirement already satisfied: urllib3!=1.25.0,!=1.25.1,<1.26,>=1.21.1 in /usr/local/lib/python3.7/dist-packages (from requests->flask-ngrok) (1.24.3)\n",
            "Requirement already satisfied: chardet<4,>=3.0.2 in /usr/local/lib/python3.7/dist-packages (from requests->flask-ngrok) (3.0.4)\n",
            "Installing collected packages: flask-ngrok\n",
            "Successfully installed flask-ngrok-0.0.25\n"
          ]
        }
      ]
    },
    {
      "cell_type": "markdown",
      "metadata": {
        "id": "5vdPLP3RZsry"
      },
      "source": [
        "#### To make predictions we create an HTML form which takes image file from user."
      ]
    },
    {
      "cell_type": "code",
      "metadata": {
        "colab": {
          "base_uri": "https://localhost:8080/"
        },
        "id": "29p4V4CkVjQl",
        "outputId": "ac001ff6-e75f-4e7a-a6cb-5dd478918f71"
      },
      "source": [
        "%%writefile templates/index.html\n",
        "\n",
        "<!DOCTYPE html>\n",
        "<html lang=\"en\" dir=\"ltr\">\n",
        "\n",
        "<head>\n",
        "  <meta charset=\"utf-8\">\n",
        "  <link rel=\"preconnect\" href=\"https://fonts.googleapis.com\">\n",
        "  <link rel=\"preconnect\" href=\"https://fonts.gstatic.com\" crossorigin>\n",
        "  <link href=\"https://fonts.googleapis.com/css2?family=Audiowide&display=swap\" rel=\"stylesheet\">\n",
        "  <title>SURVEILLANCE SPYHOLE</title>\n",
        "  <style>\n",
        "    body {\n",
        "      background-color: #ECFCFF;\n",
        "      margin: 0;\n",
        "    }\n",
        "\n",
        "    h1 {\n",
        "      text-align: center;\n",
        "      color: #3E64FF;\n",
        "      font-size: 300%;\n",
        "      margin: 0 auto;\n",
        "      padding: 5%;\n",
        "      font-family: 'Audiowide', cursive;\n",
        "    }\n",
        "\n",
        "    h2 {\n",
        "      color: #3E64FF;\n",
        "    }\n",
        "\n",
        "    hr {\n",
        "      border-color: #3E64FF;\n",
        "      border-style: solid;\n",
        "      border-width: 2px;\n",
        "      margin: 0;\n",
        "    }\n",
        "\n",
        "    .top {\n",
        "      background-color: #B2FCFF;\n",
        "      font-weight: bold;\n",
        "    }\n",
        "\n",
        "    .middle {\n",
        "      margin: 5% auto;\n",
        "      width: 50%;\n",
        "      text-align: center;\n",
        "    }\n",
        "  </style>\n",
        "</head>\n",
        "\n",
        "<body>\n",
        "  <div class=\"top\">\n",
        "    <h1>\n",
        "      SURVEILLANCE SPYHOLE <BR>\n",
        "      MAN - WOMAN CLASSIFIER\n",
        "    </h1>\n",
        "  </div>\n",
        "  <hr>\n",
        "  <div class=\"middle\">\n",
        "    <h2> Upload the image to predict!</h2>\n",
        "    <form action=\"/\" method=\"post\" enctype=\"multipart/form-data\">\n",
        "      <br>\n",
        "      <input type=\"file\" name=\"imagefile\">\n",
        "      <br>\n",
        "      <p><input type=\"submit\" value=\"Predict image\"></p>\n",
        "    </form>\n",
        "    <img src=\"{{ url_for('upload', filename=imagefile) }}\" style=\"width: 200px\">\n",
        "    <p>\n",
        "    <h2>\n",
        "      <b> {{ prediction_text }}</b>\n",
        "    </h2>\n",
        "    </p>\n",
        "\n",
        "  </div>\n",
        "</body>\n",
        "</html>"
      ],
      "execution_count": null,
      "outputs": [
        {
          "output_type": "stream",
          "name": "stdout",
          "text": [
            "Writing templates/index.html\n"
          ]
        }
      ]
    },
    {
      "cell_type": "markdown",
      "metadata": {
        "id": "PuUHUWHraX_I"
      },
      "source": [
        "#### Creating the application.py file."
      ]
    },
    {
      "cell_type": "code",
      "metadata": {
        "colab": {
          "base_uri": "https://localhost:8080/"
        },
        "id": "8hdfGeejbthb",
        "outputId": "6c8aaa9c-1ea2-4581-9f96-d4b11e435b2e"
      },
      "source": [
        "%%writefile app.py\n",
        "\n",
        "#importing required libraries\n",
        "from flask import Flask, render_template, request, send_from_directory\n",
        "from flask_ngrok import run_with_ngrok\n",
        "from fastai.vision import *\n",
        "import os\n",
        "\n",
        "\n",
        "#creating the flask object\n",
        "app = Flask(__name__)\n",
        "run_with_ngrok(app)\n",
        "\n",
        "app.config[\"UPLOAD_FOLDER\"] = 'uploads/'\n",
        "\n",
        "\n",
        "#loading the model\n",
        "predictor = load_learner(\"/content/\")\n",
        "\n",
        "\n",
        "#creating a predictor function\n",
        "#takes image path as parameter and returns the predicted class\n",
        "def my_predictor(img):\n",
        "  test_img =open_image(img)\n",
        "  predict_class,pred_idx,outputs=predictor.predict(test_img)\n",
        "  return predict_class\n",
        "\n",
        "\n",
        "#creating routes\n",
        "@app.route('/', methods=['GET'])\n",
        "def home():\n",
        "  return render_template('index.html')\n",
        "\n",
        "@app.route('/', methods=['POST'])\n",
        "def predict():\n",
        "  # predicting images\n",
        "  imagefile = request.files['imagefile']\n",
        "  filename = imagefile.filename\n",
        "  image_path = os.path.join(app.config['UPLOAD_FOLDER'], filename)\n",
        "  imagefile.save(image_path)\n",
        "  \n",
        "  result = my_predictor(image_path)\n",
        "  \n",
        "  return render_template('index.html', imagefile = imagefile.filename, prediction_text='Image is of a {}'.format(result))\n",
        "\n",
        "@app.route('/uploads/<filename>')\n",
        "def upload(filename):\n",
        "    return send_from_directory(app.config['UPLOAD_FOLDER'], filename)\n",
        "\n",
        "if __name__=='__main__':\n",
        "  app.run()"
      ],
      "execution_count": null,
      "outputs": [
        {
          "output_type": "stream",
          "name": "stdout",
          "text": [
            "Writing app.py\n"
          ]
        }
      ]
    },
    {
      "cell_type": "markdown",
      "metadata": {
        "id": "tIaJlbEi__rI"
      },
      "source": [
        "#### procfile.txt"
      ]
    },
    {
      "cell_type": "code",
      "metadata": {
        "id": "sVN82cQtvgLW",
        "colab": {
          "base_uri": "https://localhost:8080/"
        },
        "outputId": "ad9ee494-32ca-467b-c8c2-99b79f622f89"
      },
      "source": [
        "%%writefile procfile.txt\n",
        "web: gunicorn app:app"
      ],
      "execution_count": null,
      "outputs": [
        {
          "output_type": "stream",
          "name": "stdout",
          "text": [
            "Writing procfile.txt\n"
          ]
        }
      ]
    },
    {
      "cell_type": "code",
      "metadata": {
        "colab": {
          "base_uri": "https://localhost:8080/"
        },
        "id": "KZXqxmRkAMnU",
        "outputId": "b7f3fbdf-c6f7-4227-9f18-66fcb9013a70"
      },
      "source": [
        "pip install gunicorn"
      ],
      "execution_count": null,
      "outputs": [
        {
          "output_type": "stream",
          "name": "stdout",
          "text": [
            "Collecting gunicorn\n",
            "  Downloading gunicorn-20.1.0-py3-none-any.whl (79 kB)\n",
            "\u001b[?25l\r\u001b[K     |████▏                           | 10 kB 20.8 MB/s eta 0:00:01\r\u001b[K     |████████▎                       | 20 kB 27.0 MB/s eta 0:00:01\r\u001b[K     |████████████▍                   | 30 kB 14.9 MB/s eta 0:00:01\r\u001b[K     |████████████████▌               | 40 kB 11.6 MB/s eta 0:00:01\r\u001b[K     |████████████████████▋           | 51 kB 5.5 MB/s eta 0:00:01\r\u001b[K     |████████████████████████▊       | 61 kB 5.6 MB/s eta 0:00:01\r\u001b[K     |████████████████████████████▉   | 71 kB 5.4 MB/s eta 0:00:01\r\u001b[K     |████████████████████████████████| 79 kB 3.4 MB/s \n",
            "\u001b[?25hRequirement already satisfied: setuptools>=3.0 in /usr/local/lib/python3.7/dist-packages (from gunicorn) (57.4.0)\n",
            "Installing collected packages: gunicorn\n",
            "Successfully installed gunicorn-20.1.0\n"
          ]
        }
      ]
    },
    {
      "cell_type": "markdown",
      "metadata": {
        "id": "h5Vw5tDCAGTy"
      },
      "source": [
        "#### requirements.txt"
      ]
    },
    {
      "cell_type": "code",
      "metadata": {
        "id": "7HfbQxKsAaR-"
      },
      "source": [
        "!pip freeze > requirements_temp.txt"
      ],
      "execution_count": null,
      "outputs": []
    },
    {
      "cell_type": "code",
      "metadata": {
        "colab": {
          "base_uri": "https://localhost:8080/"
        },
        "id": "MRjLmbCU4h6r",
        "outputId": "0c1e0379-6416-47dc-dfc0-f3fb5d3995bf"
      },
      "source": [
        "%%writefile requirements.txt\n",
        "fastai==1.0.61\n",
        "Flask==1.1.4\n",
        "flask-ngrok==0.0.25\n",
        "gunicorn==20.1.0\n",
        "numpy==1.19.5\n",
        "pandas==1.1.5"
      ],
      "execution_count": null,
      "outputs": [
        {
          "output_type": "stream",
          "name": "stdout",
          "text": [
            "Writing requirements.txt\n"
          ]
        }
      ]
    },
    {
      "cell_type": "code",
      "metadata": {
        "id": "bS8tcKU6QLFZ"
      },
      "source": [
        ""
      ],
      "execution_count": null,
      "outputs": []
    }
  ]
}